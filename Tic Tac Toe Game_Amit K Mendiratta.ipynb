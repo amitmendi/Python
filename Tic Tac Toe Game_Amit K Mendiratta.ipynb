{
 "cells": [
  {
   "cell_type": "markdown",
   "metadata": {},
   "source": [
    "# Milestone Project 1\n",
    "## Congratulations on making it to your first milestone!\n",
    "You've already learned a ton and are ready to work on a real project.\n",
    "\n",
    "Your assignment: Create a Tic Tac Toe game. You are free to use any IDE you like.\n",
    "\n",
    "Here are the requirements:\n",
    "\n",
    "* 2 players should be able to play the game (both sitting at the same computer)\n",
    "* The board should be printed out every time a player makes a move\n",
    "* You should be able to accept input of the player position and then place a symbol on the board\n",
    "\n",
    "Feel free to use Google to help you figure anything out (but don't just Google \"Tic Tac Toe in Python\" otherwise you won't learn anything!) Keep in mind that this project can take anywhere between several hours to several days.\n",
    "\n",
    "There are 4 Jupyter Notebooks related to this assignment:\n",
    "\n",
    "* This Assignment Notebook\n",
    "* A \"Walkthrough Steps Workbook\" Notebook\n",
    "* A \"Complete Walkthrough Solution\" Notebook\n",
    "* An \"Advanced Solution\" Notebook\n",
    "\n",
    "I encourage you to just try to start the project on your own without referencing any of the notebooks. If you get stuck, check out the next lecture which is a text lecture with helpful hints and steps. If you're still stuck after that, then check out the Walkthrough Steps Workbook, which breaks up the project in steps for you to solve. Still stuck? Then check out the Complete Walkthrough Solution video for more help on approaching the project!"
   ]
  },
  {
   "cell_type": "markdown",
   "metadata": {},
   "source": [
    "There are parts of this that will be a struggle...and that is good! I have complete faith that if you have made it this far through the course you have all the tools and knowledge to tackle this project. Remember, it's totally open book, so take your time, do a little research, and remember:\n",
    "\n",
    "## HAVE FUN!"
   ]
  },
  {
   "cell_type": "code",
   "execution_count": null,
   "metadata": {},
   "outputs": [],
   "source": []
  },
  {
   "cell_type": "code",
   "execution_count": null,
   "metadata": {},
   "outputs": [],
   "source": []
  },
  {
   "cell_type": "code",
   "execution_count": 1,
   "metadata": {},
   "outputs": [],
   "source": [
    "#display board\n",
    "from IPython.display import clear_output\n",
    "def board(lst):\n",
    "    clear_output()\n",
    "    for item in range (1,len(lst)-2,3):\n",
    "        print(lst[item]+' | '+lst[item+1]+' | '+lst[item+2])\n",
    "        print('__|___|__')\n",
    "        "
   ]
  },
  {
   "cell_type": "code",
   "execution_count": 2,
   "metadata": {},
   "outputs": [
    {
     "name": "stdout",
     "output_type": "stream",
     "text": [
      "  |   |  \n",
      "__|___|__\n",
      "  |   |  \n",
      "__|___|__\n",
      "  |   |  \n",
      "__|___|__\n"
     ]
    }
   ],
   "source": [
    "board_list = [' ']*10\n",
    "board(board_list)"
   ]
  },
  {
   "cell_type": "code",
   "execution_count": 3,
   "metadata": {},
   "outputs": [],
   "source": [
    "#random selection of player 1 and player 2\n",
    "from random import randint\n",
    "def player_selection():\n",
    "    random = randint(0,1)\n",
    "    \n",
    "    if random == 0:\n",
    "        return 'Player 1'\n",
    "    else:\n",
    "        return 'Player 2'"
   ]
  },
  {
   "cell_type": "code",
   "execution_count": 4,
   "metadata": {},
   "outputs": [
    {
     "name": "stdout",
     "output_type": "stream",
     "text": [
      "Player 1 goes first dawg! \n"
     ]
    }
   ],
   "source": [
    "turn = player_selection()\n",
    "print(f\"{turn} goes first dawg! \")"
   ]
  },
  {
   "cell_type": "code",
   "execution_count": 5,
   "metadata": {},
   "outputs": [],
   "source": [
    "#Ask for user's choice of marker\n",
    "def user_input():\n",
    "    marker=''\n",
    "    \n",
    "    while marker !='X' and marker != 'O':  #critical: This loop should run if marker is not X and marker is not O\n",
    "        marker = input(f'Okay so what you want to be {turn}: X or O? ').upper()  #returns string o/p\n",
    "    \n",
    "    if turn == 'Player 1':   # (Player1, Player2)\n",
    "        if marker == 'X':\n",
    "            return ('X','O') \n",
    "        else:\n",
    "            return ('O','X') \n",
    "            \n",
    "    else:                     #(Player1, Player2) return in this fashion\n",
    "        if marker == 'X':\n",
    "            return ('O','X') \n",
    "        else:\n",
    "            return ('X','O')"
   ]
  },
  {
   "cell_type": "code",
   "execution_count": null,
   "metadata": {},
   "outputs": [],
   "source": [
    "Player1_marker, Player2_marker = user_input()\n"
   ]
  },
  {
   "cell_type": "code",
   "execution_count": null,
   "metadata": {},
   "outputs": [],
   "source": [
    "\n"
   ]
  },
  {
   "cell_type": "code",
   "execution_count": null,
   "metadata": {},
   "outputs": [],
   "source": []
  },
  {
   "cell_type": "code",
   "execution_count": 6,
   "metadata": {},
   "outputs": [],
   "source": [
    "#Start: whether you wanna play the game or not\n",
    "def play_game():\n",
    "    \n",
    "    choice=''\n",
    "    while choice !='Y' and choice != 'N':  #critical\n",
    "        choice = input(\"Do you guys wanna play this amazing game: Y or N? \").upper()\n",
    "    if choice == 'Y':\n",
    "        return True\n",
    "    else:\n",
    "        return False\n"
   ]
  },
  {
   "cell_type": "code",
   "execution_count": null,
   "metadata": {},
   "outputs": [],
   "source": [
    "play = play_game()\n",
    "print(play)"
   ]
  },
  {
   "cell_type": "code",
   "execution_count": 7,
   "metadata": {},
   "outputs": [],
   "source": [
    "#Ask player 1 and player 2 where they want to place the marker\n",
    "\n",
    "def marker_position(board_list, player, position):\n",
    "        board_list[position] = player\n",
    "        board(board_list)"
   ]
  },
  {
   "cell_type": "code",
   "execution_count": null,
   "metadata": {},
   "outputs": [],
   "source": [
    "marker_position(board_list,Player1_marker, 1)"
   ]
  },
  {
   "cell_type": "code",
   "execution_count": 8,
   "metadata": {},
   "outputs": [],
   "source": [
    "#check if the location to place marker is full\n",
    "\n",
    "def check_marker_location(board_list, marker, position):\n",
    "    \n",
    "    if board_list[position] == ' ':\n",
    "        marker_position(board_list, marker, position)\n",
    "    else:\n",
    "        print (\"This position is already filled. choose another one! \")\n",
    "        position_selection(marker)"
   ]
  },
  {
   "cell_type": "code",
   "execution_count": null,
   "metadata": {},
   "outputs": [],
   "source": [
    "check_marker_location(board_list,Player1_marker, 2)"
   ]
  },
  {
   "cell_type": "code",
   "execution_count": 15,
   "metadata": {},
   "outputs": [],
   "source": [
    "#Ask player where to place marker\n",
    "\n",
    "def position_selection(marker):\n",
    "    position=''\n",
    "    while position not in [1,2,3,4,5,6,7,8,9]:\n",
    "        position = int(input(f'{turn}: Where do you want to place the marker on the board above, choose from 1-9 starting from top? '))\n",
    "    \n",
    "    check_marker_location(board_list, marker, position)\n"
   ]
  },
  {
   "cell_type": "code",
   "execution_count": 18,
   "metadata": {},
   "outputs": [
    {
     "name": "stdout",
     "output_type": "stream",
     "text": [
      "  |   |  \n",
      "__|___|__\n",
      "  |   |  \n",
      "__|___|__\n",
      "  | X | O\n",
      "__|___|__\n"
     ]
    }
   ],
   "source": [
    "position_selection(Player1_marker)\n"
   ]
  },
  {
   "cell_type": "code",
   "execution_count": 17,
   "metadata": {},
   "outputs": [],
   "source": [
    "#check if board full\n",
    "def check_board_full(board_list):\n",
    "    for i in range (1, len(board_list)):  #critical bc board_list has total 10 elements and we are starting count from 1\n",
    "        if board_list[i] == ' ':\n",
    "            break\n",
    "    else:\n",
    "        return True\n"
   ]
  },
  {
   "cell_type": "code",
   "execution_count": null,
   "metadata": {},
   "outputs": [],
   "source": [
    "print(board_list)\n",
    "check_board_full(board_list)"
   ]
  },
  {
   "cell_type": "code",
   "execution_count": 11,
   "metadata": {},
   "outputs": [],
   "source": [
    "#Check if the player has won\n",
    "def check_player_won(board_list,player):\n",
    "    for item in range (1, len(board_list)-2,3):\n",
    "        if board_list[item]==board_list[item+1]==board_list[item+2]==player:\n",
    "            return True\n",
    "    for item in range (1,4):\n",
    "        if board_list[item]==board_list[item+3]==board_list[item+6]==player:\n",
    "            return True\n",
    "    for item in range (1,2):\n",
    "        if board_list[item]==board_list[item+4]==board_list[item+8]==player:\n",
    "            return True\n",
    "    for item in range (3,4):\n",
    "        if board_list[item]==board_list[item+2]==board_list[item+4]==player:\n",
    "            return True\n",
    "    return False"
   ]
  },
  {
   "cell_type": "code",
   "execution_count": null,
   "metadata": {},
   "outputs": [],
   "source": [
    "check_player_won(board_list,Player1_marker)"
   ]
  },
  {
   "cell_type": "code",
   "execution_count": 19,
   "metadata": {},
   "outputs": [
    {
     "name": "stdout",
     "output_type": "stream",
     "text": [
      "X |   | O\n",
      "__|___|__\n",
      "  | O | X\n",
      "__|___|__\n",
      "O | X | O\n",
      "__|___|__\n",
      "Congrats Player 2 has won! \n",
      "Do you guys wanna play this amazing game: Y or N? n\n",
      "Goodbye! Cy next time dawg! \n"
     ]
    }
   ],
   "source": [
    "#Combining all the codes to make a full-fledged game\n",
    "#Final Game\n",
    "\n",
    "print('Welcome to Tic Tac Toe dawg!')\n",
    "play=play_game()\n",
    "while play:\n",
    "    board_list = [' ']*10\n",
    "    #display board\n",
    "    board(board_list)\n",
    "    #random player selection\n",
    "    turn = player_selection()\n",
    "    print(f\"{turn} goes first dawg! \")\n",
    "    \n",
    "    #choice of marker\n",
    "    Player1_marker, Player2_marker = user_input()\n",
    "    print (f\"Player 1 is {Player1_marker} and Player 2 is {Player2_marker}\")\n",
    "    \n",
    "    while True:\n",
    "        \n",
    "        if turn == 'Player 1':\n",
    "\n",
    "            #choose the marker position and check if its free and place the marker at the position\n",
    "            position = position_selection(Player1_marker)\n",
    "\n",
    "            #check if player has won\n",
    "            if check_player_won(board_list, Player1_marker):\n",
    "                \n",
    "                print(f\"Congrats {turn} has won! \")\n",
    "                play=play_game()\n",
    "                break\n",
    "\n",
    "            #check if board is full\n",
    "            if check_board_full(board_list):\n",
    "                print(\"Its a tie! \")\n",
    "                #Ask to play again\n",
    "                play=play_game()\n",
    "                break\n",
    "            \n",
    "            #Go for next player turn if no win and board is not full yet\n",
    "            turn = 'Player 2'\n",
    "        \n",
    "        else:\n",
    "\n",
    "            #choose the marker position and check if its free and place the marker at the position\n",
    "            position = position_selection(Player2_marker)\n",
    "\n",
    "            #check if player has won\n",
    "            if check_player_won(board_list, Player2_marker):\n",
    "                print(f\"Congrats {turn} has won! \")\n",
    "                #Ask to play again\n",
    "                play=play_game()\n",
    "                break\n",
    "\n",
    "            #check if board is full\n",
    "            if check_board_full(board_list):\n",
    "                print(\"Its a tie! \")\n",
    "                play=play_game()\n",
    "                break\n",
    "            #Go for next player turn if no win and board is not full yet\n",
    "            turn = 'Player 1'\n",
    "\n",
    "print (\"Goodbye! Cy next time dawg! \")   "
   ]
  },
  {
   "cell_type": "code",
   "execution_count": null,
   "metadata": {},
   "outputs": [],
   "source": []
  },
  {
   "cell_type": "code",
   "execution_count": null,
   "metadata": {},
   "outputs": [],
   "source": []
  }
 ],
 "metadata": {
  "kernelspec": {
   "display_name": "Python 3",
   "language": "python",
   "name": "python3"
  },
  "language_info": {
   "codemirror_mode": {
    "name": "ipython",
    "version": 3
   },
   "file_extension": ".py",
   "mimetype": "text/x-python",
   "name": "python",
   "nbconvert_exporter": "python",
   "pygments_lexer": "ipython3",
   "version": "3.7.1"
  }
 },
 "nbformat": 4,
 "nbformat_minor": 1
}
