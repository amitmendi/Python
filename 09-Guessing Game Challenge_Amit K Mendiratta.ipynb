{
 "cells": [
  {
   "cell_type": "markdown",
   "metadata": {},
   "source": [
    "# Guessing Game Challenge\n",
    "\n",
    "Let's use `while` loops to create a guessing game.\n",
    "\n",
    "The Challenge:\n",
    "\n",
    "Write a program that picks a random integer from 1 to 100, and has players guess the number. The rules are:\n",
    "\n",
    "1. If a player's guess is less than 1 or greater than 100, say \"OUT OF BOUNDS\"\n",
    "2. On a player's first turn, if their guess is\n",
    " * within 10 of the number, return \"WARM!\"\n",
    " * further than 10 away from the number, return \"COLD!\"\n",
    "3. On all subsequent turns, if a guess is \n",
    " * closer to the number than the previous guess return \"WARMER!\"\n",
    " * farther from the number than the previous guess, return \"COLDER!\"\n",
    "4. When the player's guess equals the number, tell them they've guessed correctly *and* how many guesses it took!\n",
    "\n",
    "You can try this from scratch, or follow the steps outlined below. A separate Solution notebook has been provided. Good luck!\n"
   ]
  },
  {
   "cell_type": "markdown",
   "metadata": {},
   "source": []
  },
  {
   "cell_type": "code",
   "execution_count": 2,
   "metadata": {},
   "outputs": [],
   "source": []
  },
  {
   "cell_type": "markdown",
   "metadata": {},
   "source": [
    "#### Next, print an introduction to the game and explain the rules"
   ]
  },
  {
   "cell_type": "code",
   "execution_count": null,
   "metadata": {},
   "outputs": [],
   "source": []
  },
  {
   "cell_type": "markdown",
   "metadata": {},
   "source": [
    "#### Create a list to store guesses\n",
    "\n",
    "Hint: zero is a good placeholder value. It's useful because it evaluates to \"False\""
   ]
  },
  {
   "cell_type": "code",
   "execution_count": null,
   "metadata": {},
   "outputs": [],
   "source": []
  },
  {
   "cell_type": "markdown",
   "metadata": {},
   "source": [
    "#### Write a `while` loop that asks for a valid guess. Test it a few times to make sure it works."
   ]
  },
  {
   "cell_type": "code",
   "execution_count": 1,
   "metadata": {},
   "outputs": [
    {
     "name": "stdout",
     "output_type": "stream",
     "text": [
      "WELCOME TO GUESS ME!\n",
      "I'm thinking of a number between 1 and 100\n",
      "If your guess is more than 10 away from my number, I'll tell you you're COLD\n",
      "If your guess is within 10 of my number, I'll tell you you're WARM\n",
      "If your guess is farther than your most recent guess, I'll say you're getting COLDER\n",
      "If your guess is closer than your most recent guess, I'll say you're getting WARMER\n",
      "LET'S PLAY!\n",
      "69\n",
      "Guess the number dawg!-9\n",
      "Out of Bounds! Try Again \n",
      "Guess the number dawg!60\n",
      "Warmer\n",
      "Guess the number dawg!63\n",
      "Warmer\n",
      "Guess the number dawg!61\n",
      "Colder\n",
      "Guess the number dawg!68\n",
      "Warmer\n",
      "Guess the number dawg!69\n",
      "You have finally guessed correctly the number 69 in 6 times \n"
     ]
    }
   ],
   "source": [
    "print(\"WELCOME TO GUESS ME!\")\n",
    "print(\"I'm thinking of a number between 1 and 100\")\n",
    "print(\"If your guess is more than 10 away from my number, I'll tell you you're COLD\")\n",
    "print(\"If your guess is within 10 of my number, I'll tell you you're WARM\")\n",
    "print(\"If your guess is farther than your most recent guess, I'll say you're getting COLDER\")\n",
    "print(\"If your guess is closer than your most recent guess, I'll say you're getting WARMER\")\n",
    "print(\"LET'S PLAY!\")\n",
    "\n",
    "from random import randint\n",
    "random_var=randint(1,100)\n",
    "print(random_var)\n",
    "user_var=[]\n",
    "counter=0\n",
    "user_var.append(0)\n",
    "\n",
    "while random_var!=user_var[counter]:\n",
    "    \n",
    "    user_input = int(input(\"Guess the number dawg!\"))\n",
    "    user_var.append(user_input)\n",
    "    if user_var[counter+1]<1 or user_var[counter+1]>100:\n",
    "        counter+=1\n",
    "        print(\"Out of Bounds! Try Again \")\n",
    "        continue\n",
    "    else:\n",
    "        if user_var[counter+1]==random_var:\n",
    "            counter+=1\n",
    "            print(f\"You have finally guessed correctly the number {random_var} in {counter} times \")\n",
    "            break\n",
    "        else:\n",
    "            \n",
    "            if counter==0:\n",
    "\n",
    "                if abs(user_var[counter+1]-random_var)<10:\n",
    "                    print(\"Warm\")\n",
    "                    counter+=1\n",
    "                else:\n",
    "                    print(\"Cold\")\n",
    "                    counter+=1\n",
    "            else:\n",
    "                if abs(user_var[counter+1]-random_var) < abs(user_var[counter]-random_var):\n",
    "                    print(\"Warmer\")\n",
    "                    counter+=1\n",
    "                else:\n",
    "                    print(\"Colder\")\n",
    "                    counter+=1\n",
    "        \n",
    "            \n"
   ]
  },
  {
   "cell_type": "markdown",
   "metadata": {},
   "source": [
    "#### Write a `while` loop that compares the player's guess to our number. If the player guesses correctly, break from the loop. Otherwise, tell the player if they're warmer or colder, and continue asking for guesses.\n",
    "\n",
    "Some hints:\n",
    "* it may help to sketch out all possible combinations on paper first!\n",
    "* you can use the `abs()` function to find the positive difference between two numbers\n",
    "* if you append all new guesses to the list, then the previous guess is given as `guesses[-2]`"
   ]
  },
  {
   "cell_type": "code",
   "execution_count": null,
   "metadata": {},
   "outputs": [],
   "source": [
    "\n",
    "    "
   ]
  },
  {
   "cell_type": "markdown",
   "metadata": {},
   "source": [
    "That's it! You've just programmed your first game!\n",
    "\n",
    "In the next section we'll learn how to turn some of these repetitive actions into *functions* that can be called whenever we need them."
   ]
  },
  {
   "cell_type": "markdown",
   "metadata": {},
   "source": [
    "### Good Job!"
   ]
  },
  {
   "cell_type": "code",
   "execution_count": 2,
   "metadata": {},
   "outputs": [
    {
     "name": "stdout",
     "output_type": "stream",
     "text": [
      "WELCOME TO GUESS ME!\n",
      "I'm thinking of a number between 1 and 100\n",
      "If your guess is more than 10 away from my number, I'll tell you you're COLD\n",
      "If your guess is within 10 of my number, I'll tell you you're WARM\n",
      "If your guess is farther than your most recent guess, I'll say you're getting COLDER\n",
      "If your guess is closer than your most recent guess, I'll say you're getting WARMER\n",
      "LET'S PLAY!\n",
      "Guess the number dawg! -97\n",
      "Out of Bounds! try Again\n",
      "Guess the number dawg! 24\n",
      "Warmer\n",
      "Guess the number dawg! 25\n",
      "Colder\n",
      "Guess the number dawg! 23\n",
      "Warmer\n",
      "Guess the number dawg! 22\n",
      "Warmer\n",
      "Guess the number dawg! 21\n",
      "Warmer\n",
      "Guess the number dawg! 20\n",
      "Warmer\n",
      "Guess the number dawg! 19\n",
      "Warmer\n",
      "Guess the number dawg! 18\n",
      "Warmer\n",
      "Guess the number dawg! 17\n",
      "Warmer\n",
      "Guess the number dawg! 16\n",
      "Warmer\n",
      "Guess the number dawg! 15\n",
      "Warmer\n",
      "Guess the number dawg! 14\n",
      "Warmer\n",
      "Guess the number dawg! 13\n",
      "Warmer\n",
      "Guess the number dawg! 12\n",
      "Warmer\n",
      "Guess the number dawg! 11\n",
      "Warmer\n",
      "Guess the number dawg! 10\n",
      "Warmer\n",
      "Guess the number dawg! 9\n",
      "Warmer\n",
      "Guess the number dawg! 8\n",
      "Warmer\n",
      "Guess the number dawg! 7\n",
      "Warmer\n",
      "Guess the number dawg! 6\n",
      "Warmer\n",
      "Guess the number dawg! 5\n",
      "You have finally guessed correctly the number 5 in 22 times \n"
     ]
    }
   ],
   "source": [
    "#Final Code: Guessing Game Challenge\n",
    "#Write a program that picks a random integer from 1 to 100, and has players guess the number. The rules are:\n",
    "\n",
    "print(\"WELCOME TO GUESS ME!\")\n",
    "print(\"I'm thinking of a number between 1 and 100\")\n",
    "print(\"If your guess is more than 10 away from my number, I'll tell you you're COLD\")\n",
    "print(\"If your guess is within 10 of my number, I'll tell you you're WARM\")\n",
    "print(\"If your guess is farther than your most recent guess, I'll say you're getting COLDER\")\n",
    "print(\"If your guess is closer than your most recent guess, I'll say you're getting WARMER\")\n",
    "print(\"LET'S PLAY!\")\n",
    "\n",
    "from random import randint\n",
    "random_var=randint(1,101)\n",
    "counter=0\n",
    "user_var=[]\n",
    "user_var.append(0)\n",
    "while random_var!=user_var[counter]:\n",
    "\n",
    "    user_input=int(input(\"Guess the number dawg! \"))\n",
    "    user_var.append(user_input)\n",
    "    if user_var[counter+1]<1 or user_var[counter+1]>100:\n",
    "        print(\"Out of Bounds! try Again\")\n",
    "        counter+=1\n",
    "        continue\n",
    "    else:\n",
    "        if user_var[counter+1]==random_var:\n",
    "            counter+=1\n",
    "            print(f\"You have finally guessed correctly the number {random_var} in {counter} times \")\n",
    "            break\n",
    "        else:\n",
    "            if counter ==0:\n",
    "                if abs(user_var[counter+1]-random_var)<10:\n",
    "                    print(\"Warm\")\n",
    "                    counter+=1\n",
    "                else:\n",
    "                    print(\"Cold\")\n",
    "                    counter+=1\n",
    "            else:   \n",
    "                if abs(user_var[counter+1]-random_var)<abs(user_var[counter]-random_var):\n",
    "                    print(\"Warmer\")\n",
    "                    counter+=1\n",
    "                else:\n",
    "                    print(\"Colder\")\n",
    "                    counter+=1    "
   ]
  },
  {
   "cell_type": "code",
   "execution_count": null,
   "metadata": {},
   "outputs": [],
   "source": []
  }
 ],
 "metadata": {
  "kernelspec": {
   "display_name": "Python 3",
   "language": "python",
   "name": "python3"
  },
  "language_info": {
   "codemirror_mode": {
    "name": "ipython",
    "version": 3
   },
   "file_extension": ".py",
   "mimetype": "text/x-python",
   "name": "python",
   "nbconvert_exporter": "python",
   "pygments_lexer": "ipython3",
   "version": "3.7.1"
  }
 },
 "nbformat": 4,
 "nbformat_minor": 2
}
