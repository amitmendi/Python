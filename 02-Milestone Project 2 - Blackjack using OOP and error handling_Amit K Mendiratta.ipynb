{
 "cells": [
  {
   "cell_type": "markdown",
   "metadata": {
    "collapsed": true
   },
   "source": [
    "# Milestone Project 2 - Walkthrough Steps Workbook\n",
    "Below is a set of steps for you to follow to try to create the Blackjack Milestone Project game!"
   ]
  },
  {
   "cell_type": "markdown",
   "metadata": {},
   "source": [
    "## Game Play\n",
    "To play a hand of Blackjack the following steps must be followed:\n",
    "1. Create a deck of 52 cards\n",
    "2. Shuffle the deck\n",
    "3. Ask the Player for their bet\n",
    "4. Make sure that the Player's bet does not exceed their available chips\n",
    "5. Deal two cards to the Dealer and two cards to the Player\n",
    "6. Show only one of the Dealer's cards, the other remains hidden\n",
    "7. Show both of the Player's cards\n",
    "8. Ask the Player if they wish to Hit, and take another card\n",
    "9. If the Player's hand doesn't Bust (go over 21), ask if they'd like to Hit again.\n",
    "10. If a Player Stands, play the Dealer's hand. The dealer will always Hit until the Dealer's value meets or exceeds 17\n",
    "11. Determine the winner and adjust the Player's chips accordingly\n",
    "12. Ask the Player if they'd like to play again"
   ]
  },
  {
   "cell_type": "markdown",
   "metadata": {},
   "source": [
    "## Playing Cards\n",
    "A standard deck of playing cards has four suits (Hearts, Diamonds, Spades and Clubs) and thirteen ranks (2 through 10, then the face cards Jack, Queen, King and Ace) for a total of 52 cards per deck. Jacks, Queens and Kings all have a rank of 10. Aces have a rank of either 11 or 1 as needed to reach 21 without busting. As a starting point in your program, you may want to assign variables to store a list of suits, ranks, and then use a dictionary to map ranks to values."
   ]
  },
  {
   "cell_type": "markdown",
   "metadata": {},
   "source": [
    "## The Game\n",
    "### Imports and Global Variables\n",
    "** Step 1: Import the random module. This will be used to shuffle the deck prior to dealing. Then, declare variables to store suits, ranks and values. You can develop your own system, or copy ours below. Finally, declare a Boolean value to be used to control <code>while</code> loops. This is a common practice used to control the flow of the game.**"
   ]
  },
  {
   "cell_type": "code",
   "execution_count": 1,
   "metadata": {},
   "outputs": [],
   "source": [
    "import random  #to shuffle the deck\n",
    "\n",
    "#global variables\n",
    "suits = ('Hearts', 'Spades', 'Diamonds', 'Clubs')\n",
    "ranks = ('Two', 'Three', 'Four', 'Five', 'Six', 'Seven', 'Eight', 'Nine', 'Ten', 'Jack', 'Queen', 'King', 'Ace')\n",
    "values = {'Two':2, 'Three':3, 'Four':4, 'Five':5, 'Six':6, 'Seven':7, 'Eight':8, 'Nine':9, \n",
    "          'Ten':10, 'Jack':10, 'Queen':10, 'King':10, 'Ace':11}\n",
    "playing = True"
   ]
  },
  {
   "cell_type": "markdown",
   "metadata": {},
   "source": [
    "### Class Definitions\n",
    "Consider making a Card class where each Card object has a suit and a rank, then a Deck class to hold all 52 Card objects, and can be shuffled, and finally a Hand class that holds those Cards that have been dealt to each player from the Deck."
   ]
  },
  {
   "cell_type": "markdown",
   "metadata": {},
   "source": [
    "**Step 2: Create a Card Class**<br>\n",
    "A Card object really only needs two attributes: suit and rank. You might add an attribute for \"value\" - we chose to handle value later when developing our Hand class.<br>In addition to the Card's \\_\\_init\\_\\_ method, consider adding a \\_\\_str\\_\\_ method that, when asked to print a Card, returns a string in the form \"Two of Hearts\""
   ]
  },
  {
   "cell_type": "code",
   "execution_count": 2,
   "metadata": {},
   "outputs": [],
   "source": [
    "class Card():  #Note these parenthesis are only mandat if dealing with inheritance, Vimp note. But use it all the time\n",
    "    \n",
    "    def __init__(self, suit, rank):\n",
    "        self.rank = rank\n",
    "        self.suit = suit\n",
    "    \n",
    "    def __str__(self):\n",
    "        return self.rank+\" of \"+self.suit"
   ]
  },
  {
   "cell_type": "markdown",
   "metadata": {},
   "source": [
    "**Step 3: Create a Deck Class**<br>\n",
    "Here we might store 52 card objects in a list that can later be shuffled. First, though, we need to *instantiate* all 52 unique card objects and add them to our list. So long as the Card class definition appears in our code, we can build Card objects inside our Deck \\_\\_init\\_\\_ method. Consider iterating over sequences of suits and ranks to build out each card. This might appear inside a Deck class \\_\\_init\\_\\_ method:\n",
    "\n",
    "    for suit in suits:\n",
    "        for rank in ranks:\n",
    "\n",
    "In addition to an \\_\\_init\\_\\_ method we'll want to add methods to shuffle our deck, and to deal out cards during gameplay.<br><br>\n",
    "OPTIONAL: We may never need to print the contents of the deck during gameplay, but having the ability to see the cards inside it may help troubleshoot any problems that occur during development. With this in mind, consider adding a \\_\\_str\\_\\_ method to the class definition."
   ]
  },
  {
   "cell_type": "code",
   "execution_count": 3,
   "metadata": {},
   "outputs": [],
   "source": [
    "class Deck():\n",
    "    \n",
    "    def __init__(self):\n",
    "        self.deck = []  # start with an empty list\n",
    "        for suit in suits:\n",
    "            for rank in ranks:\n",
    "                card = Card(suit, rank)\n",
    "                self.deck.append(card)\n",
    "    \n",
    "    def __str__(self):  #to display the complete deck\n",
    "        complete_deck = ''\n",
    "        for card in self.deck:\n",
    "            complete_deck+=card.__str__()+'\\n'\n",
    "        return complete_deck\n",
    "\n",
    "    def shuffle(self):\n",
    "        random.shuffle(self.deck)\n",
    "        \n",
    "    def deal(self):  #to pick a random card when the user chooses hit\n",
    "        rand_card = self.deck.pop()\n",
    "        return rand_card"
   ]
  },
  {
   "cell_type": "markdown",
   "metadata": {},
   "source": [
    "TESTING: Just to see that everything works so far, let's see what our Deck looks like!"
   ]
  },
  {
   "cell_type": "code",
   "execution_count": 4,
   "metadata": {},
   "outputs": [
    {
     "name": "stdout",
     "output_type": "stream",
     "text": [
      "Hearts\n",
      "Two of Hearts\n",
      "Three of Hearts\n",
      "Four of Hearts\n",
      "Five of Hearts\n",
      "Six of Hearts\n",
      "Seven of Hearts\n",
      "Eight of Hearts\n",
      "Nine of Hearts\n",
      "Ten of Hearts\n",
      "Jack of Hearts\n",
      "Queen of Hearts\n",
      "King of Hearts\n",
      "Ace of Hearts\n",
      "Two of Spades\n",
      "Three of Spades\n",
      "Four of Spades\n",
      "Five of Spades\n",
      "Six of Spades\n",
      "Seven of Spades\n",
      "Eight of Spades\n",
      "Nine of Spades\n",
      "Ten of Spades\n",
      "Jack of Spades\n",
      "Queen of Spades\n",
      "King of Spades\n",
      "Ace of Spades\n",
      "Two of Diamonds\n",
      "Three of Diamonds\n",
      "Four of Diamonds\n",
      "Five of Diamonds\n",
      "Six of Diamonds\n",
      "Seven of Diamonds\n",
      "Eight of Diamonds\n",
      "Nine of Diamonds\n",
      "Ten of Diamonds\n",
      "Jack of Diamonds\n",
      "Queen of Diamonds\n",
      "King of Diamonds\n",
      "Ace of Diamonds\n",
      "Two of Clubs\n",
      "Three of Clubs\n",
      "Four of Clubs\n",
      "Five of Clubs\n",
      "Six of Clubs\n",
      "Seven of Clubs\n",
      "Eight of Clubs\n",
      "Nine of Clubs\n",
      "Ten of Clubs\n",
      "Jack of Clubs\n",
      "Queen of Clubs\n",
      "King of Clubs\n",
      "Ace of Clubs\n",
      "\n"
     ]
    }
   ],
   "source": [
    "card =Card('Hearts','Two')\n",
    "print(card.suit) #Note: you can access them directly using objects like other functions directly.\n",
    "#Note: for private var strating with __ use obj._classname__attr  #Imp\n",
    "test_deck = Deck()\n",
    "\n",
    "print(test_deck)"
   ]
  },
  {
   "cell_type": "code",
   "execution_count": 5,
   "metadata": {},
   "outputs": [
    {
     "name": "stdout",
     "output_type": "stream",
     "text": [
      "Five of Clubs\n",
      "Six of Diamonds\n",
      "Nine of Spades\n",
      "Four of Spades\n",
      "Ace of Spades\n",
      "Nine of Diamonds\n",
      "Jack of Spades\n",
      "Three of Hearts\n",
      "Seven of Spades\n",
      "Two of Diamonds\n",
      "King of Diamonds\n",
      "Two of Hearts\n",
      "Four of Diamonds\n",
      "Four of Clubs\n",
      "Eight of Diamonds\n",
      "Queen of Clubs\n",
      "Two of Clubs\n",
      "Seven of Clubs\n",
      "Nine of Hearts\n",
      "Nine of Clubs\n",
      "Ten of Spades\n",
      "Jack of Diamonds\n",
      "Three of Diamonds\n",
      "Seven of Hearts\n",
      "Ace of Clubs\n",
      "Five of Diamonds\n",
      "Six of Clubs\n",
      "Eight of Hearts\n",
      "Ace of Hearts\n",
      "Six of Hearts\n",
      "Eight of Spades\n",
      "Ace of Diamonds\n",
      "King of Clubs\n",
      "Jack of Clubs\n",
      "Jack of Hearts\n",
      "King of Spades\n",
      "Queen of Hearts\n",
      "Five of Hearts\n",
      "Four of Hearts\n",
      "Eight of Clubs\n",
      "King of Hearts\n",
      "Ten of Hearts\n",
      "Queen of Spades\n",
      "Three of Spades\n",
      "Ten of Diamonds\n",
      "Queen of Diamonds\n",
      "Three of Clubs\n",
      "Six of Spades\n",
      "Ten of Clubs\n",
      "Five of Spades\n",
      "Two of Spades\n",
      "Seven of Diamonds\n",
      "\n"
     ]
    }
   ],
   "source": [
    "#Testing card shuffle\n",
    "test_deck.shuffle()\n",
    "print(test_deck)"
   ]
  },
  {
   "cell_type": "markdown",
   "metadata": {},
   "source": [
    "Great! Now let's move on to our Hand class."
   ]
  },
  {
   "cell_type": "markdown",
   "metadata": {},
   "source": [
    "**Step 4: Create a Hand Class**<br>\n",
    "In addition to holding Card objects dealt from the Deck, the Hand class may be used to calculate the value of those cards using the values dictionary defined above. It may also need to adjust for the value of Aces when appropriate."
   ]
  },
  {
   "cell_type": "markdown",
   "metadata": {},
   "source": [
    "**VIMP** Note:  0 is false and 1,2,3... are True. see below"
   ]
  },
  {
   "cell_type": "code",
   "execution_count": 6,
   "metadata": {},
   "outputs": [
    {
     "name": "stdout",
     "output_type": "stream",
     "text": [
      "True\n"
     ]
    }
   ],
   "source": [
    "num=0\n",
    "num1 =1\n",
    "num2=4\n",
    "\n",
    "if num2:\n",
    "    print(\"True\")\n",
    "if num:\n",
    "    print(\"False\") #won't print since 0 is false\n",
    "    \n",
    "#Will use this concept below in aces adjustment"
   ]
  },
  {
   "cell_type": "code",
   "execution_count": 7,
   "metadata": {},
   "outputs": [],
   "source": [
    "class Hand(): #Keeps track of all cards in hand for a player\n",
    "    def __init__(self):\n",
    "        self.cards = []  # start with an empty list as we did in the Deck class\n",
    "        self.value = 0   # start with zero value #will capture the total value in hand\n",
    "        self.aces = 0    # add an attribute to keep track of aces\n",
    "    \n",
    "    def add_card(self,card):\n",
    "        #this card comes from Deck.deal()\n",
    "        self.cards.append(card) #everytime a player says hit we are gonna add a random card to his hand\n",
    "        self.value+=values[card.rank]\n",
    "        \n",
    "        #Ace check adjustment: Keeping track of number of aces\n",
    "        if card.rank == 'Ace':\n",
    "            self.aces +=1\n",
    "    \n",
    "    def adjust_for_ace(self):\n",
    "        #Note: if total value is less than 21 you are gona keep ace's value as 11 only and once its over 21 \n",
    "        #to avoid getting busted, you have to change it to one ie subtract 10 and reduce the number of aces by\n",
    "        #1 since we are keeping the count of original aces with value 11 so that we can adjust them later\n",
    "        #Note: we will 0 and 1 logic for true and false\n",
    "        while self.value>21 and self.aces:  #meaning self.aces>0 (1,2,3.. anything)\n",
    "            self.value -=10 #since value of ace is now 1 rather than 11\n",
    "            self.aces -=1 #since original aces with value 11 are reduced by one\n",
    "        #Note: the above code will smartly keep ace value 11 if there are >0 aces and value has become less than \n",
    "        #21\n",
    "            "
   ]
  },
  {
   "cell_type": "code",
   "execution_count": 8,
   "metadata": {},
   "outputs": [
    {
     "name": "stdout",
     "output_type": "stream",
     "text": [
      "Eight of Clubs\n",
      "8\n"
     ]
    }
   ],
   "source": [
    "#Test code\n",
    "test_deck = Deck()\n",
    "test_deck.shuffle()\n",
    "pulled_card = test_deck.deal() #will return a Card object\n",
    "print(pulled_card) #will call __str__()\n",
    "#test player creation: calls for a hit\n",
    "test_player = Hand()\n",
    "test_player.add_card(pulled_card)\n",
    "print(test_player.value)"
   ]
  },
  {
   "cell_type": "code",
   "execution_count": null,
   "metadata": {},
   "outputs": [],
   "source": []
  },
  {
   "cell_type": "markdown",
   "metadata": {},
   "source": [
    "**Step 5: Create a Chips Class**<br>\n",
    "In addition to decks of cards and hands, we need to keep track of a Player's starting chips, bets, and ongoing winnings. This could be done using global variables, but in the spirit of object oriented programming, let's make a Chips class instead!"
   ]
  },
  {
   "cell_type": "code",
   "execution_count": null,
   "metadata": {},
   "outputs": [],
   "source": [
    "class Chips():\n",
    "    \n",
    "    def __init__(self, total = 100): #here total is total amount they wanna start with like 100, 500 chips\n",
    "        self.total = total \n",
    "        self.bet = 0 #the bet player is gonna play for each round\n",
    "        \n",
    "    def win_bet(self):\n",
    "        #If a player loses a bet, those many chips will get subtracted from total and vice versa\n",
    "        self.total +=self.bet\n",
    "    \n",
    "    def lose_bet(self):\n",
    "        self.total -=self.bet"
   ]
  },
  {
   "cell_type": "markdown",
   "metadata": {},
   "source": [
    "### Function Defintions\n",
    "A lot of steps are going to be repetitive. That's where functions come in! The following steps are guidelines - add or remove functions as needed in your own program."
   ]
  },
  {
   "cell_type": "markdown",
   "metadata": {},
   "source": [
    "**Step 6: Write a function for taking bets**<br>\n",
    "Since we're asking the user for an integer value, this would be a good place to use <code>try</code>/<code>except</code>. Remember to check that a Player's bet can be covered by their available chips."
   ]
  },
  {
   "cell_type": "code",
   "execution_count": 29,
   "metadata": {},
   "outputs": [],
   "source": [
    "def take_bet(chips):  #Note: this is a Chips class object. It has two attributes: total and bet\n",
    "    while True:\n",
    "        try:\n",
    "            chips.bet = int(input(\"Whats gonna be your bet dawg? \"))\n",
    "        except:\n",
    "            print(\"Enter the correct bet dawg! It must be an integer\")\n",
    "            continue\n",
    "        else:\n",
    "            if chips.bet > chips.total:\n",
    "                print(\"You don't have enough chips dawg! Choose a lesser bet! \")\n",
    "                continue\n",
    "            else:\n",
    "                break\n",
    "    print(f\"\\nThe player has placed a bet of {chips.bet} chips \\n\")"
   ]
  },
  {
   "cell_type": "code",
   "execution_count": 30,
   "metadata": {},
   "outputs": [
    {
     "name": "stdout",
     "output_type": "stream",
     "text": [
      "Whats gonna be your bet dawg? 7\n",
      "\n",
      "The player has placed a bet of 7 chips \n",
      "\n"
     ]
    }
   ],
   "source": [
    "#Test above code\n",
    "chips = Chips(500)\n",
    "take_bet(chips)"
   ]
  },
  {
   "cell_type": "markdown",
   "metadata": {},
   "source": [
    "**Step 7: Write a function for taking hits**<br>\n",
    "Either player can take hits until they bust. This function will be called during gameplay anytime a Player requests a hit, or a Dealer's hand is less than 17. It should take in Deck and Hand objects as arguments, and deal one card off the deck and add it to the Hand. You may want it to check for aces in the event that a player's hand exceeds 21."
   ]
  },
  {
   "cell_type": "code",
   "execution_count": 14,
   "metadata": {},
   "outputs": [],
   "source": [
    "def hit(deck,hand):\n",
    "    \n",
    "    hand.add_card(deck.deal())\n",
    "    hand.adjust_for_ace()"
   ]
  },
  {
   "cell_type": "markdown",
   "metadata": {},
   "source": [
    "**Step 8: Write a function prompting the Player to Hit or Stand**<br>\n",
    "This function should accept the deck and the player's hand as arguments, and assign playing as a global variable.<br>\n",
    "If the Player Hits, employ the hit() function above. If the Player Stands, set the playing variable to False - this will control the behavior of a <code>while</code> loop later on in our code."
   ]
  },
  {
   "cell_type": "code",
   "execution_count": 17,
   "metadata": {},
   "outputs": [],
   "source": [
    "def hit_or_stand(deck,hand):\n",
    "    global playing  # to control an upcoming while loop\n",
    "    \n",
    "    while True:\n",
    "        response = input(\"Do you wanna hit or stand player? \")\n",
    "        if response.lower() == 'hit':\n",
    "            hit(deck, hand)\n",
    "        elif response.lower() == 'stand':\n",
    "            print(\"\\nDealer's turn!\\n\")\n",
    "            playing = False\n",
    "        else:\n",
    "            print(\"Enter a correct response dawg!! \")\n",
    "            continue\n",
    "        break"
   ]
  },
  {
   "cell_type": "code",
   "execution_count": 18,
   "metadata": {},
   "outputs": [
    {
     "name": "stdout",
     "output_type": "stream",
     "text": [
      "Do you wanna hit or stand player? stand\n",
      "\n",
      "Dealer's turn!\n",
      "\n"
     ]
    }
   ],
   "source": [
    "#TEst code\n",
    "test_deck = Deck()\n",
    "test_hand = Hand ()\n",
    "h1 = hit_or_stand(test_deck, test_hand)"
   ]
  },
  {
   "cell_type": "markdown",
   "metadata": {},
   "source": [
    "**Step 9: Write functions to display cards**<br>\n",
    "When the game starts, and after each time Player takes a card, the dealer's first card is hidden and all of Player's cards are visible. At the end of the hand all cards are shown, and you may want to show each hand's total value. Write a function for each of these scenarios."
   ]
  },
  {
   "cell_type": "code",
   "execution_count": 20,
   "metadata": {},
   "outputs": [],
   "source": [
    "def show_some(player,dealer): #Not all cards are shown\n",
    "    #Here player and dealer represents objects of Hand class for player and dealer\n",
    "    #this method is for the beginning when dealer's one card is visible and player's both cards are visible\n",
    "    print(\"\\nDealer's Hand\")\n",
    "    print(dealer.cards[1]) #since first card is hidden\n",
    "    print(\"\\nPlayer's hand\")\n",
    "    print(*player.cards, sep = ', ') #will print all cards separated by a comma\n",
    "    print(f\"\\nPlayer's total value is {player.value}\")\n",
    "    \n",
    "def show_all(player,dealer): #at the end of the hand, show cards and values\n",
    "    \n",
    "    print(\"\\nDealer's Hand\")\n",
    "    for card in dealer.cards: #here card is an attribute of hand class, which is ultimately a card object from Deck class\n",
    "        print(card)\n",
    "        \n",
    "    print(f\"\\nDealer's total value is {dealer.value}\")\n",
    "    print(\"\\nPlayer's hand\")\n",
    "    print(*player.cards, sep = ', ')\n",
    "    print(f\"\\nPlayer's total value is {player.value}\")\n"
   ]
  },
  {
   "cell_type": "code",
   "execution_count": null,
   "metadata": {},
   "outputs": [],
   "source": []
  },
  {
   "cell_type": "markdown",
   "metadata": {},
   "source": [
    "**Step 10: Write functions to handle end of game scenarios**<br>\n",
    "Remember to pass player's hand, dealer's hand and chips as needed."
   ]
  },
  {
   "cell_type": "code",
   "execution_count": 25,
   "metadata": {},
   "outputs": [],
   "source": [
    "def player_busts(player, dealer, chips): #chips represent Chip class object\n",
    "    print(\"Player busted Dang it!!\")\n",
    "    chips.lose_bet()\n",
    "def player_wins(player, dealer, chips):\n",
    "    print(\"Player wins Yuhoo!!\")\n",
    "    chips.win_bet()\n",
    "\n",
    "def dealer_busts(player, dealer, chips):\n",
    "    print(\"Dealer busted Yuhoo!!\")\n",
    "    chips.win_bet()\n",
    "    \n",
    "def dealer_wins(player, dealer, chips):\n",
    "    print(\"Dealer wins!!\")\n",
    "    chips.lose_bet()\n",
    "    \n",
    "def push(player, dealer):\n",
    "    print(\"Game tied!!\")"
   ]
  },
  {
   "cell_type": "markdown",
   "metadata": {},
   "source": [
    "### And now on to the game!!"
   ]
  },
  {
   "cell_type": "code",
   "execution_count": 32,
   "metadata": {},
   "outputs": [
    {
     "name": "stdout",
     "output_type": "stream",
     "text": [
      "Welcome to blackjack!!\n",
      "Are you ready for an actual showdown?? Yes or No?? \n",
      "nklj\n",
      "Enter correct reponse either yes or no\n",
      "Welcome to blackjack!!\n",
      "Are you ready for an actual showdown?? Yes or No?? \n",
      "yes\n",
      "We are gonna start with 1000 chips in each game so the maximum bet that can be placed is 1000 \n",
      "\n",
      "Whats gonna be your bet dawg? 1000\n",
      "\n",
      "The player has placed a bet of 1000 chips \n",
      "\n",
      "\n",
      "Dealer's Hand\n",
      "Five of Spades\n",
      "\n",
      "Player's hand\n",
      "Ace of Hearts, Seven of Hearts\n",
      "\n",
      "Player's total value is 18\n",
      "Do you wanna hit or stand player? stand\n",
      "\n",
      "Dealer's turn!\n",
      "\n",
      "\n",
      "Dealer's Hand\n",
      "Five of Spades\n",
      "\n",
      "Player's hand\n",
      "Ace of Hearts, Seven of Hearts\n",
      "\n",
      "Player's total value is 18\n",
      "\n",
      "Dealer's Hand\n",
      "Three of Clubs\n",
      "Five of Spades\n",
      "Two of Spades\n",
      "Jack of Diamonds\n",
      "\n",
      "Dealer's total value is 20\n",
      "\n",
      "Player's hand\n",
      "Ace of Hearts, Seven of Hearts\n",
      "\n",
      "Player's total value is 18\n",
      "Dealer wins!!\n",
      "\n",
      "The total chips left for the player for this game are 0 \n",
      "Do you wanna play again? Yes or no?? no\n",
      "Have a nice day dawg! Bub bye!! \n"
     ]
    }
   ],
   "source": [
    "import random  #to shuffle the deck\n",
    "\n",
    "#global variables\n",
    "suits = ('Hearts', 'Spades', 'Diamonds', 'Clubs')\n",
    "ranks = ('Two', 'Three', 'Four', 'Five', 'Six', 'Seven', 'Eight', 'Nine', 'Ten', 'Jack', 'Queen', 'King', 'Ace')\n",
    "values = {'Two':2, 'Three':3, 'Four':4, 'Five':5, 'Six':6, 'Seven':7, 'Eight':8, 'Nine':9, \n",
    "          'Ten':10, 'Jack':10, 'Queen':10, 'King':10, 'Ace':11}\n",
    "playing = True\n",
    "\n",
    "while True:\n",
    "    # Print an opening statement\n",
    "    print(\"Welcome to blackjack!!\")\n",
    "    player_response = input(\"Are you ready for an actual showdown?? Yes or No?? \\n\")\n",
    "    if player_response.lower() == 'yes':\n",
    "        # Create & shuffle the deck\n",
    "        deck = Deck()\n",
    "        deck.shuffle()\n",
    "        \n",
    "        #creating player's and dealer's hand and deal two cards to each player\n",
    "        player_hand = Hand()\n",
    "        player_hand.add_card(deck.deal())\n",
    "        player_hand.add_card(deck.deal()) #player got two cards\n",
    "        \n",
    "        dealer_hand = Hand()\n",
    "        dealer_hand.add_card(deck.deal())\n",
    "        dealer_hand.add_card(deck.deal()) #dealer got two cards\n",
    "\n",
    "        #Now both have two cards.\n",
    "        \n",
    "        # Set up the Player's chips\n",
    "        print(\"We are gonna start with 1000 chips in each game so the maximum bet that can be placed is 1000 \\n\")\n",
    "\n",
    "        player_chips = Chips(1000) #starting with 1000 chips for the player\n",
    "    \n",
    "        # Prompt the Player for their bet\n",
    "        take_bet(player_chips)\n",
    "\n",
    "    \n",
    "        # Show cards (but keep one dealer card hidden)\n",
    "        show_some(player_hand, dealer_hand)\n",
    "        \n",
    "        while playing:  # recall this variable from our hit_or_stand function\n",
    "        \n",
    "            # Prompt for Player to Hit or Stand\n",
    "            hit_or_stand(deck, player_hand)\n",
    "\n",
    "            # Show cards (but keep one dealer card hidden)\n",
    "            \n",
    "            show_some(player_hand, dealer_hand)\n",
    "        \n",
    "            # If player's hand exceeds 21, run player_busts() and break out of loop\n",
    "        \n",
    "            if player_hand.value > 21:\n",
    "                player_busts(player_hand, dealer_hand, player_chips)\n",
    "                break\n",
    "\n",
    "        # If Player hasn't busted, play Dealer's hand until Dealer reaches 17\n",
    "        #This will run anyways: if the player chooses stand or he gets busted.\n",
    "        if player_hand.value <= 21: #if he hasn't busted \n",
    "            while dealer_hand.value < 17:\n",
    "                \n",
    "                hit(deck, dealer_hand)\n",
    "            \n",
    "            \n",
    "            # Show all cards\n",
    "            show_all(player_hand, dealer_hand)\n",
    "    \n",
    "            # Run different winning scenarios\n",
    "            if player_hand.value > dealer_hand.value:\n",
    "                player_wins(player_hand, dealer_hand, player_chips)\n",
    "            elif player_hand.value < dealer_hand.value and dealer_hand.value <= 21:\n",
    "                dealer_wins(player_hand, dealer_hand, player_chips)\n",
    "            elif dealer_hand.value > 21:\n",
    "                dealer_busts(player_hand, dealer_hand, player_chips)\n",
    "            else:\n",
    "                push(player_hand, dealer_hand)\n",
    "        \n",
    "    \n",
    "        # Inform Player of their chips total \n",
    "        print (f\"\\nThe total chips left for the player for this game are {player_chips.total} \")\n",
    "    \n",
    "        # Ask to play again\n",
    "        new_game = input(\"Do you wanna play again? Yes or no?? \")\n",
    "        if new_game.lower() == 'yes':\n",
    "            playing = True\n",
    "            continue\n",
    "        elif new_game.lower() == 'no':\n",
    "            print(\"Have a nice day dawg! Bub bye!! \")\n",
    "            break\n",
    "        else:\n",
    "            print (\"Enter correct response either yes or no? \")\n",
    "            playing = True\n",
    "            continue\n",
    "\n",
    "    elif player_response.lower() == 'no':\n",
    "        print (\"Thank you for your time. Goodbye!! \")\n",
    "        break\n",
    "    else:\n",
    "        print(\"Enter correct reponse either yes or no\")\n",
    "        continue\n",
    "    "
   ]
  },
  {
   "cell_type": "markdown",
   "metadata": {},
   "source": [
    "And that's it! Remember, these steps may differ significantly from your own solution. That's OK! Keep working on different sections of your program until you get the desired results. It takes a lot of time and patience! As always, feel free to post questions and comments to the QA Forums.\n",
    "# Good job!"
   ]
  },
  {
   "cell_type": "code",
   "execution_count": null,
   "metadata": {},
   "outputs": [],
   "source": []
  }
 ],
 "metadata": {
  "kernelspec": {
   "display_name": "Python 3",
   "language": "python",
   "name": "python3"
  },
  "language_info": {
   "codemirror_mode": {
    "name": "ipython",
    "version": 3
   },
   "file_extension": ".py",
   "mimetype": "text/x-python",
   "name": "python",
   "nbconvert_exporter": "python",
   "pygments_lexer": "ipython3",
   "version": "3.7.1"
  }
 },
 "nbformat": 4,
 "nbformat_minor": 1
}
